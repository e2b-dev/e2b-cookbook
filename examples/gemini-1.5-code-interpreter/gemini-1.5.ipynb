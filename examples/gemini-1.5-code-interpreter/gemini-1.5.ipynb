{
  "cells": [
    {
      "cell_type": "markdown",
      "metadata": {},
      "source": [
        "# Code Interpreting with Gemini 1.5 Pro/Flash\n",
        "This example uses the E2B's [Code Interpreter](https://github.com/e2b-dev/code-interpreter) as a tool for Gemini 1.5 pro/flash. We ask the LLM to show a chart which means the LLM will generate Python code that will get sent to E2B, we display the chart."
      ]
    },
    {
      "cell_type": "markdown",
      "metadata": {},
      "source": [
        "# Step 1: Install the dependencies\n"
      ]
    },
    {
      "cell_type": "code",
      "execution_count": 1,
      "metadata": {
        "colab": {
          "base_uri": "https://localhost:8080/"
        },
        "id": "5kS-plOSMWnS",
        "outputId": "40488472-d554-4aea-fb75-5699c2bdd725"
      },
      "outputs": [
        {
          "name": "stdout",
          "output_type": "stream",
          "text": [
            "Requirement already satisfied: google-generativeai in /Users/dsaid/.pyenv/versions/personal/lib/python3.11/site-packages (0.5.4)\n",
            "Requirement already satisfied: e2b_code_interpreter in /Users/dsaid/.pyenv/versions/personal/lib/python3.11/site-packages (0.0.6)\n",
            "Requirement already satisfied: google-ai-generativelanguage==0.6.4 in /Users/dsaid/.pyenv/versions/personal/lib/python3.11/site-packages (from google-generativeai) (0.6.4)\n",
            "Requirement already satisfied: google-api-core in /Users/dsaid/.pyenv/versions/personal/lib/python3.11/site-packages (from google-generativeai) (2.18.0)\n",
            "Requirement already satisfied: google-api-python-client in /Users/dsaid/.pyenv/versions/personal/lib/python3.11/site-packages (from google-generativeai) (2.125.0)\n",
            "Requirement already satisfied: google-auth>=2.15.0 in /Users/dsaid/.pyenv/versions/personal/lib/python3.11/site-packages (from google-generativeai) (2.23.2)\n",
            "Requirement already satisfied: protobuf in /Users/dsaid/.pyenv/versions/personal/lib/python3.11/site-packages (from google-generativeai) (4.24.3)\n",
            "Requirement already satisfied: pydantic in /Users/dsaid/.pyenv/versions/personal/lib/python3.11/site-packages (from google-generativeai) (2.7.0b1)\n",
            "Requirement already satisfied: tqdm in /Users/dsaid/.pyenv/versions/personal/lib/python3.11/site-packages (from google-generativeai) (4.66.1)\n",
            "Requirement already satisfied: typing-extensions in /Users/dsaid/.pyenv/versions/personal/lib/python3.11/site-packages (from google-generativeai) (4.9.0)\n",
            "Requirement already satisfied: proto-plus<2.0.0dev,>=1.22.3 in /Users/dsaid/.pyenv/versions/personal/lib/python3.11/site-packages (from google-ai-generativelanguage==0.6.4->google-generativeai) (1.23.0)\n",
            "Requirement already satisfied: e2b>=0.17.0 in /Users/dsaid/.pyenv/versions/personal/lib/python3.11/site-packages (from e2b_code_interpreter) (0.17.0)\n",
            "Requirement already satisfied: websocket-client<2.0.0,>=1.7.0 in /Users/dsaid/.pyenv/versions/personal/lib/python3.11/site-packages (from e2b_code_interpreter) (1.8.0)\n",
            "Requirement already satisfied: aenum>=3.1.11 in /Users/dsaid/.pyenv/versions/personal/lib/python3.11/site-packages (from e2b>=0.17.0->e2b_code_interpreter) (3.1.15)\n",
            "Requirement already satisfied: aiohttp>=3.8.4 in /Users/dsaid/.pyenv/versions/personal/lib/python3.11/site-packages (from e2b>=0.17.0->e2b_code_interpreter) (3.9.1)\n",
            "Requirement already satisfied: jsonrpcclient>=4.0.3 in /Users/dsaid/.pyenv/versions/personal/lib/python3.11/site-packages (from e2b>=0.17.0->e2b_code_interpreter) (4.0.3)\n",
            "Requirement already satisfied: python-dateutil>=2.8.2 in /Users/dsaid/.pyenv/versions/personal/lib/python3.11/site-packages (from e2b>=0.17.0->e2b_code_interpreter) (2.8.2)\n",
            "Requirement already satisfied: requests>=2.31.0 in /Users/dsaid/.pyenv/versions/personal/lib/python3.11/site-packages (from e2b>=0.17.0->e2b_code_interpreter) (2.31.0)\n",
            "Requirement already satisfied: urllib3>=1.25.3 in /Users/dsaid/.pyenv/versions/personal/lib/python3.11/site-packages (from e2b>=0.17.0->e2b_code_interpreter) (2.1.0)\n",
            "Requirement already satisfied: websockets>=11.0.3 in /Users/dsaid/.pyenv/versions/personal/lib/python3.11/site-packages (from e2b>=0.17.0->e2b_code_interpreter) (12.0)\n",
            "Requirement already satisfied: googleapis-common-protos<2.0.dev0,>=1.56.2 in /Users/dsaid/.pyenv/versions/personal/lib/python3.11/site-packages (from google-api-core->google-generativeai) (1.62.0)\n",
            "Requirement already satisfied: cachetools<6.0,>=2.0.0 in /Users/dsaid/.pyenv/versions/personal/lib/python3.11/site-packages (from google-auth>=2.15.0->google-generativeai) (5.3.1)\n",
            "Requirement already satisfied: pyasn1-modules>=0.2.1 in /Users/dsaid/.pyenv/versions/personal/lib/python3.11/site-packages (from google-auth>=2.15.0->google-generativeai) (0.3.0)\n",
            "Requirement already satisfied: rsa<5,>=3.1.4 in /Users/dsaid/.pyenv/versions/personal/lib/python3.11/site-packages (from google-auth>=2.15.0->google-generativeai) (4.9)\n",
            "Requirement already satisfied: annotated-types>=0.4.0 in /Users/dsaid/.pyenv/versions/personal/lib/python3.11/site-packages (from pydantic->google-generativeai) (0.5.0)\n",
            "Requirement already satisfied: pydantic-core==2.18.0 in /Users/dsaid/.pyenv/versions/personal/lib/python3.11/site-packages (from pydantic->google-generativeai) (2.18.0)\n",
            "Requirement already satisfied: httplib2<1.dev0,>=0.19.0 in /Users/dsaid/.pyenv/versions/personal/lib/python3.11/site-packages (from google-api-python-client->google-generativeai) (0.22.0)\n",
            "Requirement already satisfied: google-auth-httplib2<1.0.0,>=0.2.0 in /Users/dsaid/.pyenv/versions/personal/lib/python3.11/site-packages (from google-api-python-client->google-generativeai) (0.2.0)\n",
            "Requirement already satisfied: uritemplate<5,>=3.0.1 in /Users/dsaid/.pyenv/versions/personal/lib/python3.11/site-packages (from google-api-python-client->google-generativeai) (4.1.1)\n",
            "Requirement already satisfied: attrs>=17.3.0 in /Users/dsaid/.pyenv/versions/personal/lib/python3.11/site-packages (from aiohttp>=3.8.4->e2b>=0.17.0->e2b_code_interpreter) (23.1.0)\n",
            "Requirement already satisfied: multidict<7.0,>=4.5 in /Users/dsaid/.pyenv/versions/personal/lib/python3.11/site-packages (from aiohttp>=3.8.4->e2b>=0.17.0->e2b_code_interpreter) (6.0.4)\n",
            "Requirement already satisfied: yarl<2.0,>=1.0 in /Users/dsaid/.pyenv/versions/personal/lib/python3.11/site-packages (from aiohttp>=3.8.4->e2b>=0.17.0->e2b_code_interpreter) (1.9.2)\n",
            "Requirement already satisfied: frozenlist>=1.1.1 in /Users/dsaid/.pyenv/versions/personal/lib/python3.11/site-packages (from aiohttp>=3.8.4->e2b>=0.17.0->e2b_code_interpreter) (1.4.0)\n",
            "Requirement already satisfied: aiosignal>=1.1.2 in /Users/dsaid/.pyenv/versions/personal/lib/python3.11/site-packages (from aiohttp>=3.8.4->e2b>=0.17.0->e2b_code_interpreter) (1.3.1)\n",
            "Requirement already satisfied: grpcio<2.0dev,>=1.33.2 in /Users/dsaid/.pyenv/versions/personal/lib/python3.11/site-packages (from google-api-core[grpc]!=2.0.*,!=2.1.*,!=2.10.*,!=2.2.*,!=2.3.*,!=2.4.*,!=2.5.*,!=2.6.*,!=2.7.*,!=2.8.*,!=2.9.*,<3.0.0dev,>=1.34.1->google-ai-generativelanguage==0.6.4->google-generativeai) (1.62.1)\n",
            "Requirement already satisfied: grpcio-status<2.0.dev0,>=1.33.2 in /Users/dsaid/.pyenv/versions/personal/lib/python3.11/site-packages (from google-api-core[grpc]!=2.0.*,!=2.1.*,!=2.10.*,!=2.2.*,!=2.3.*,!=2.4.*,!=2.5.*,!=2.6.*,!=2.7.*,!=2.8.*,!=2.9.*,<3.0.0dev,>=1.34.1->google-ai-generativelanguage==0.6.4->google-generativeai) (1.62.1)\n",
            "Requirement already satisfied: pyparsing!=3.0.0,!=3.0.1,!=3.0.2,!=3.0.3,<4,>=2.4.2 in /Users/dsaid/.pyenv/versions/personal/lib/python3.11/site-packages (from httplib2<1.dev0,>=0.19.0->google-api-python-client->google-generativeai) (3.1.1)\n",
            "Requirement already satisfied: pyasn1<0.6.0,>=0.4.6 in /Users/dsaid/.pyenv/versions/personal/lib/python3.11/site-packages (from pyasn1-modules>=0.2.1->google-auth>=2.15.0->google-generativeai) (0.5.0)\n",
            "Requirement already satisfied: six>=1.5 in /Users/dsaid/.pyenv/versions/personal/lib/python3.11/site-packages (from python-dateutil>=2.8.2->e2b>=0.17.0->e2b_code_interpreter) (1.16.0)\n",
            "Requirement already satisfied: charset-normalizer<4,>=2 in /Users/dsaid/.pyenv/versions/personal/lib/python3.11/site-packages (from requests>=2.31.0->e2b>=0.17.0->e2b_code_interpreter) (3.2.0)\n",
            "Requirement already satisfied: idna<4,>=2.5 in /Users/dsaid/.pyenv/versions/personal/lib/python3.11/site-packages (from requests>=2.31.0->e2b>=0.17.0->e2b_code_interpreter) (3.4)\n",
            "Requirement already satisfied: certifi>=2017.4.17 in /Users/dsaid/.pyenv/versions/personal/lib/python3.11/site-packages (from requests>=2.31.0->e2b>=0.17.0->e2b_code_interpreter) (2024.2.2)\n",
            "\n",
            "\u001b[1m[\u001b[0m\u001b[34;49mnotice\u001b[0m\u001b[1;39;49m]\u001b[0m\u001b[39;49m A new release of pip is available: \u001b[0m\u001b[31;49m23.3.2\u001b[0m\u001b[39;49m -> \u001b[0m\u001b[32;49m24.0\u001b[0m\n",
            "\u001b[1m[\u001b[0m\u001b[34;49mnotice\u001b[0m\u001b[1;39;49m]\u001b[0m\u001b[39;49m To update, run: \u001b[0m\u001b[32;49mpip install --upgrade pip\u001b[0m\n",
            "Note: you may need to restart the kernel to use updated packages.\n"
          ]
        }
      ],
      "source": [
        "# Install the required packages\n",
        "%pip install google-generativeai e2b_code_interpreter --upgrade"
      ]
    },
    {
      "cell_type": "markdown",
      "metadata": {},
      "source": [
        "# Step 2: Define API keys, prompts and the tool"
      ]
    },
    {
      "cell_type": "code",
      "execution_count": 2,
      "metadata": {
        "id": "locUMi_ANJek"
      },
      "outputs": [],
      "source": [
        "# Get your API keys or save them to .env file.\n",
        "import os\n",
        "from dotenv import load_dotenv\n",
        "load_dotenv()\n",
        "\n",
        "# TODO: Get your Google AI Studio API key. See here for more details: https://ai.google.dev/gemini-api/docs/api-key\n",
        "GOOGLE_API_KEY = os.getenv(\"GOOGLE_API_KEY\")\n",
        "\n",
        "# TODO: Get your E2B API key from https://e2b.dev/docs\n",
        "E2B_API_KEY = os.getenv(\"E2B_API_KEY\")\n",
        "\n",
        "# TODO: Set your model name\n",
        "MODEL_NAME = \"gemini-1.5-flash-latest\" # other options: \"gemini-1.5-pro-latest\"\n",
        "\n",
        "# System prompt for the LLM\n",
        "SYSTEM_PROMPT = \"\"\"\n",
        "## your job & context\n",
        "you are a python data scientist. you are given tasks to complete and you run python code to solve them.\n",
        "You DO NOT MAKE SYNTAX MISTAKES OR FORGET ANY IMPORTS\n",
        "- the python code runs in jupyter notebook.\n",
        "- every time you call `execute_python_code` tool, the python code is executed in a separate cell. it's okay to multiple calls to `execute_python_code`.\n",
        "- display visualizations using matplotlib or any other visualization library directly in the notebook. don't worry about saving the visualizations to a file.\n",
        "- you have access to the internet and can make api requests.\n",
        "- you also have access to the filesystem and can read/write files.\n",
        "- you can install any pip package (if it exists) if you need to but the usual packages for data analysis are already preinstalled.\n",
        "- you can run any python code you want, everything is running in a secure sandbox environment.\n",
        "\"\"\""
      ]
    },
    {
      "cell_type": "markdown",
      "metadata": {},
      "source": [
        "Function calling is defined differently in Google's Generative AI SDK. Instead of defining the function schema in JSON, you can directly provide a Python function. The SDK will automatically convert the function into a format the API understands.\n",
        "\n",
        "More details here: https://ai.google.dev/gemini-api/docs/function-calling/tutorial?lang=python#basics_of_function_calling"
      ]
    },
    {
      "cell_type": "code",
      "execution_count": 3,
      "metadata": {},
      "outputs": [],
      "source": [
        "def execute_python_code(code: str):\n",
        "    \"\"\"\n",
        "    Execute python code in a Jupyter notebook cell and returns any result, stdout, stderr, display_data, and error\n",
        "\n",
        "    Args:\n",
        "    - code: str: The python code to execute in a single cell.\n",
        "    \"\"\"\n",
        "    print(\"Running code interpreter...\")\n",
        "    print(f\"Code to execute: \\n```\\n{code}\\n```\")\n",
        "    exec = code_interpreter.notebook.exec_cell(\n",
        "        code,\n",
        "        on_stderr=lambda stderr: print(\"[Code Interpreter]\", stderr),\n",
        "        on_stdout=lambda stdout: print(\"[Code Interpreter]\", stdout),\n",
        "        )\n",
        "    if exec.error:\n",
        "       print(\"[Code Interpreter ERROR]\", exec.error)\n",
        "    else:\n",
        "      return exec.results"
      ]
    },
    {
      "cell_type": "markdown",
      "metadata": {},
      "source": [
        "# Step 2: Initialise the LLM"
      ]
    },
    {
      "cell_type": "code",
      "execution_count": 4,
      "metadata": {
        "id": "_1WPD2mAMjT2"
      },
      "outputs": [],
      "source": [
        "import google.generativeai as genai\n",
        "\n",
        "# Configure the API key\n",
        "genai.configure(api_key=GOOGLE_API_KEY)\n",
        "\n",
        "# Initialize the model, and pass the system instruction and tools\n",
        "model = genai.GenerativeModel(model_name=MODEL_NAME, \n",
        "                              system_instruction=SYSTEM_PROMPT,\n",
        "                              tools=[execute_python_code])"
      ]
    },
    {
      "cell_type": "markdown",
      "metadata": {},
      "source": [
        "# Step 3: Run the LLM, extract the tool arguments, and execute the tool"
      ]
    },
    {
      "cell_type": "code",
      "execution_count": 5,
      "metadata": {
        "colab": {
          "base_uri": "https://localhost:8080/",
          "height": 1000
        },
        "id": "e2p2w9UqOX3L",
        "outputId": "45d46c4d-1c0a-4f14-8575-73459ff98816"
      },
      "outputs": [
        {
          "name": "stdout",
          "output_type": "stream",
          "text": [
            "Running code interpreter...\n",
            "Code to execute: \n",
            "```\n",
            "\n",
            "import matplotlib.pyplot as plt\n",
            "import numpy as np\n",
            "\n",
            "# Assuming a normal distribution with mean and standard deviation based on general population data\n",
            "mean_height = 1.75  # meters\n",
            "std_dev = 0.07  # meters\n",
            "\n",
            "# Generate random heights based on the distribution\n",
            "heights = np.random.normal(mean_height, std_dev, 1000)\n",
            "\n",
            "# Create the histogram\n",
            "plt.hist(heights, bins=20, edgecolor='black')\n",
            "\n",
            "# Add labels and title\n",
            "plt.xlabel('Height (meters)')\n",
            "plt.ylabel('Frequency')\n",
            "plt.title('Distribution of Men\\'s Heights')\n",
            "\n",
            "# Show the plot\n",
            "plt.show()\n",
            "\n",
            "```\n"
          ]
        },
        {
          "data": {
            "image/png": "[encoded data removed]",
            "text/plain": [
              "<e2b_code_interpreter.models.Result at 0x10c8f0590>"
            ]
          },
          "execution_count": 5,
          "metadata": {},
          "output_type": "execute_result"
        }
      ],
      "source": [
        "from e2b_code_interpreter import CodeInterpreter\n",
        "\n",
        "with CodeInterpreter(api_key=E2B_API_KEY) as code_interpreter:\n",
        "    # Send the prompt to the model\n",
        "    response = model.generate_content(\"Visualize a distribution of height of men based on the latest data you know.\")\n",
        "\n",
        "    # Extract the arguments (i.e. `code`) from tool call\n",
        "    # More details here: https://ai.google.dev/gemini-api/docs/function-calling/tutorial?lang=python#optional_low_level_access\n",
        "    python_code = response.candidates[0].content.parts[0].function_call.args[\"code\"]\n",
        "\n",
        "    # Execute the code\n",
        "    results = execute_python_code(python_code)\n",
        "\n",
        "    if results:\n",
        "        first_result = results[0]\n",
        "    else:\n",
        "        print(\"No code results\")\n",
        "        exit(0)\n",
        "\n",
        "# Display the first result\n",
        "# You can also access the data directly\n",
        "# first_result.png\n",
        "# first_result.jpg\n",
        "# first_result.pdf\n",
        "# ...\n",
        "first_result"
      ]
    }
  ],
  "metadata": {
    "colab": {
      "provenance": []
    },
    "kernelspec": {
      "display_name": "Python 3",
      "name": "python3"
    },
    "language_info": {
      "codemirror_mode": {
        "name": "ipython",
        "version": 3
      },
      "file_extension": ".py",
      "mimetype": "text/x-python",
      "name": "python",
      "nbconvert_exporter": "python",
      "pygments_lexer": "ipython3",
      "version": "3.11.5"
    }
  },
  "nbformat": 4,
  "nbformat_minor": 0
}
